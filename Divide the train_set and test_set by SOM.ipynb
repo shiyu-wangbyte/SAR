{
 "cells": [
  {
   "cell_type": "code",
   "execution_count": 17,
   "metadata": {},
   "outputs": [],
   "source": [
    "import csv"
   ]
  },
  {
   "cell_type": "code",
   "execution_count": 20,
   "metadata": {},
   "outputs": [],
   "source": [
    "initial_list=[]\n",
    "come_list=[]\n",
    "come_list2=[]\n",
    "#读取原始map文件中的数据，原表不需要作任何处理\n",
    "input_path=r'C:\\2016018002\\diploma project\\SAR_new\\g23\\SOM\\map_MACCS.csv'\n",
    "with open(input_path,'r',encoding='utf-8') as file1:\n",
    "    a=0\n",
    "    while 1:\n",
    "        a=a+1\n",
    "        lines = file1.readline()\n",
    "        if not lines:\n",
    "            break\n",
    "            pass\n",
    "        if a>2:\n",
    "            initial_list.append(lines[12:])\n",
    "for i in initial_list:\n",
    "    if i[0]==':':\n",
    "        i=i[1:]\n",
    "    come_list.append(i)\n",
    "for i in come_list:\n",
    "    if i[0]==' ':\n",
    "        i=i[1:]\n",
    "    come_list2.append(i)"
   ]
  },
  {
   "cell_type": "code",
   "execution_count": 21,
   "metadata": {},
   "outputs": [],
   "source": [
    "#将字符串转换为列表\n",
    "come_list3=[]\n",
    "for i in come_list2:\n",
    "    a=i.split(\" \")[:-1]\n",
    "    come_list3.append(a)\n",
    "#print(come_list3)"
   ]
  },
  {
   "cell_type": "code",
   "execution_count": 22,
   "metadata": {},
   "outputs": [],
   "source": [
    "#取出come_list3中的空列表，也就是map文件中的空行\n",
    "come_list4=[]\n",
    "for i in come_list3:\n",
    "    if i !=[]:\n",
    "        come_list4.append(i)\n",
    "#print(come_list4)"
   ]
  },
  {
   "cell_type": "code",
   "execution_count": 23,
   "metadata": {},
   "outputs": [],
   "source": [
    "#划分训练集测试集\n",
    "text_list=[]\n",
    "train_list=[]\n",
    "for i in come_list4:\n",
    "    c=round(len(i)/5)+1\n",
    "    d=len(i)+1\n",
    "    if len(i)==1:\n",
    "        train_list.append(i)\n",
    "    elif len(i)<7.5:\n",
    "        text_list.append(i[0])\n",
    "        #train_list.append(i[1:d])\n",
    "        for num in i[1:d]:\n",
    "            train_list.append(num)\n",
    "    else:\n",
    "        #text_list.append(i[0:c])\n",
    "        for num in i[0:c]:\n",
    "            text_list.append(num)\n",
    "        #train_list.append(i[c:d])\n",
    "        for num in i[c:d]:\n",
    "            train_list.append(num)\n",
    "#print(text_list)\n",
    "#print(train_list)"
   ]
  },
  {
   "cell_type": "code",
   "execution_count": 24,
   "metadata": {},
   "outputs": [],
   "source": [
    "#写入原始文件待划分的文件，无表头，三列分别为“smiles结构”“活性，0或者1”“标号，1，2，3，4，5.。。。。。”\n",
    "list_initial=[]\n",
    "list_path=r'C:\\2016018002\\diploma project\\SAR_new\\g23\\SOM\\initial_save.csv'\n",
    "with open(list_path,'r',encoding='utf-8') as file:\n",
    "    while 1:\n",
    "        \n",
    "        lines = file.readline()\n",
    "        if not lines:\n",
    "            break\n",
    "            pass\n",
    "        #lines2=lines[:-1]\n",
    "        #lines3=lines2.split(\",\")\n",
    "        list_initial.append(lines)\n",
    "#print(list_initial)"
   ]
  },
  {
   "cell_type": "code",
   "execution_count": 25,
   "metadata": {},
   "outputs": [],
   "source": [
    "#将测试集写入文件\n",
    "with open(r'C:\\2016018002\\diploma project\\SAR_new\\g23\\SOM\\save_text1.csv', 'w', newline='')as csvfile:\n",
    "    writer = csv.writer(csvfile, dialect='excel')\n",
    "    header = ['mol', 'Activity','label']\n",
    "    writer.writerow(header)\n",
    "    for sub_dict in text_list:\n",
    "        if type(sub_dict) is list:\n",
    "            sub_dict=\"\".join(sub_dict)\n",
    "        number=int(sub_dict)-1\n",
    "        #print(int(sub_dict))\n",
    "        csvfile.write(list_initial[number])"
   ]
  },
  {
   "cell_type": "code",
   "execution_count": 26,
   "metadata": {},
   "outputs": [],
   "source": [
    "#将训练集写入文件\n",
    "with open(r'C:\\2016018002\\diploma project\\SAR_new\\g23\\SOM\\save_train1.csv', 'w', newline='')as csvfile:\n",
    "    writer = csv.writer(csvfile, dialect='excel')\n",
    "    header = ['mol', 'Activity','label']\n",
    "    writer.writerow(header)\n",
    "    for sub_dict in train_list:\n",
    "        if type(sub_dict) is list:\n",
    "            sub_dict=\"\".join(sub_dict)\n",
    "        number=int(sub_dict)-1\n",
    "        #print(int(sub_dict))\n",
    "        csvfile.write(list_initial[number])"
   ]
  },
  {
   "cell_type": "code",
   "execution_count": null,
   "metadata": {},
   "outputs": [],
   "source": []
  },
  {
   "cell_type": "code",
   "execution_count": null,
   "metadata": {},
   "outputs": [],
   "source": []
  }
 ],
 "metadata": {
  "kernelspec": {
   "display_name": "Python 3",
   "language": "python",
   "name": "python3"
  },
  "language_info": {
   "codemirror_mode": {
    "name": "ipython",
    "version": 3
   },
   "file_extension": ".py",
   "mimetype": "text/x-python",
   "name": "python",
   "nbconvert_exporter": "python",
   "pygments_lexer": "ipython3",
   "version": "3.7.3"
  }
 },
 "nbformat": 4,
 "nbformat_minor": 2
}
