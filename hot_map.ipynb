{
 "cells": [
  {
   "cell_type": "markdown",
   "metadata": {},
   "source": [
    "# 计算同一个文档中化合物的Tanimoto Coeffcient"
   ]
  },
  {
   "cell_type": "code",
   "execution_count": 30,
   "metadata": {},
   "outputs": [],
   "source": [
    "import rdkit\n",
    "from rdkit import Chem\n",
    "import pandas as pd\n",
    "from rdkit.Chem import MACCSkeys\n",
    "import math\n",
    "import numpy as np\n",
    "import seaborn as sns"
   ]
  },
  {
   "cell_type": "code",
   "execution_count": 31,
   "metadata": {},
   "outputs": [
    {
     "data": {
      "text/plain": [
       "5"
      ]
     },
     "execution_count": 31,
     "metadata": {},
     "output_type": "execute_result"
    }
   ],
   "source": [
    "#将被计算相似度的分子从文件中提取出来,训练集文件\n",
    "path=r\"C:\\Users\\wsy\\Desktop\\initial_save_train.csv\"\n",
    "dataset=pd.read_csv(path,encoding=\"GBK\")\n",
    "smiles_list=list(dataset[\"SMILES\"])\n",
    "len(smiles_list)"
   ]
  },
  {
   "cell_type": "code",
   "execution_count": 32,
   "metadata": {},
   "outputs": [],
   "source": [
    "#定义计算函数，输入为MACCS_CEP（DataFrame格式），DataFrame文本格式，返回值为分子与CEP的tanimoto系数\n",
    "def compute(MACCS_CEP,smiles):\n",
    "    mol = Chem.MolFromSmiles(smiles)\n",
    "    fps = list(MACCSkeys.GenMACCSKeys(mol))[1:]\n",
    "    head=['MACCS_'+str(i) for i in range(1,167)]\n",
    "    empty_dict=dict(list(zip(head,fps)))\n",
    "    MACCS_smiles=pd.DataFrame(empty_dict,index=[\"smiles\"])\n",
    "    final=MACCS_smiles.append(MACCS_CEP)\n",
    "    c=0\n",
    "    for i in head:\n",
    "        if final[i][\"CEP\"]==final[i][\"smiles\"]:\n",
    "            c=c+1\n",
    "    return c/(166+166-c)"
   ]
  },
  {
   "cell_type": "code",
   "execution_count": 33,
   "metadata": {},
   "outputs": [],
   "source": [
    "#计算出CEP的MACCS指纹并且存到DataFrame里面\n",
    "def main(smiles):\n",
    "    CEP=smiles\n",
    "    mol = Chem.MolFromSmiles(CEP)\n",
    "    fps = list(MACCSkeys.GenMACCSKeys(mol))[1:]\n",
    "    head=['MACCS_'+str(i) for i in range(1,167)]\n",
    "    empty_dict=dict(list(zip(head,fps)))\n",
    "    MACCS_CEP=pd.DataFrame(empty_dict,index=['CEP'])\n",
    "    #调用函数，计算tanimoto系数，并且存储到原来的数据中\n",
    "    tanimoto_list=[]\n",
    "    for smiles in smiles_list:\n",
    "        tanimoto=compute(MACCS_CEP,smiles)\n",
    "        tanimoto_list.append(tanimoto)\n",
    "    return tanimoto_list"
   ]
  },
  {
   "cell_type": "code",
   "execution_count": 34,
   "metadata": {
    "scrolled": true
   },
   "outputs": [
    {
     "name": "stdout",
     "output_type": "stream",
     "text": [
      "O=C(OCC)CCCN1C(=O)Oc2c1cc1c(Nc3cc4c([nH]nc4)cc3)ncnc1c2\n",
      "Clc1c(OCc2ccc(Cl)cc2)ccc(Nc2ncnc3c2cc2N(CCCC(=O)OCC)C(=O)Oc2c3)c1\n",
      "O=C(OCC)CCCN1C(=O)Oc2c1cc1c(Nc3cc(O)ccc3)ncnc1c2\n",
      "O=C(OCC)CCCN1C(=O)Oc2c1cc1c(Nc3ccc(OC(C)C)cc3)ncnc1c2\n",
      "Clc1ccc(COC(=O)c2ccc(Nc3ncnc4c3cc3N(CCCC(=O)OCC)C(=O)Oc3c4)cc2)cc1\n"
     ]
    }
   ],
   "source": [
    "number_list=[]\n",
    "index_list=[]\n",
    "for smiles in smiles_list:\n",
    "    print(smiles)\n",
    "    tanimoto_list=main(smiles)\n",
    "    dataset[smiles]=tanimoto_list\n",
    "    number=min(tanimoto_list)\n",
    "    number_list.append(number)\n",
    "    index=tanimoto_list.index(number)\n",
    "    index_list.append(index)"
   ]
  },
  {
   "cell_type": "code",
   "execution_count": 35,
   "metadata": {},
   "outputs": [
    {
     "data": {
      "text/html": [
       "<div>\n",
       "<style scoped>\n",
       "    .dataframe tbody tr th:only-of-type {\n",
       "        vertical-align: middle;\n",
       "    }\n",
       "\n",
       "    .dataframe tbody tr th {\n",
       "        vertical-align: top;\n",
       "    }\n",
       "\n",
       "    .dataframe thead th {\n",
       "        text-align: right;\n",
       "    }\n",
       "</style>\n",
       "<table border=\"1\" class=\"dataframe\">\n",
       "  <thead>\n",
       "    <tr style=\"text-align: right;\">\n",
       "      <th></th>\n",
       "      <th>SMILES</th>\n",
       "      <th>O=C(OCC)CCCN1C(=O)Oc2c1cc1c(Nc3cc4c([nH]nc4)cc3)ncnc1c2</th>\n",
       "      <th>Clc1c(OCc2ccc(Cl)cc2)ccc(Nc2ncnc3c2cc2N(CCCC(=O)OCC)C(=O)Oc2c3)c1</th>\n",
       "      <th>O=C(OCC)CCCN1C(=O)Oc2c1cc1c(Nc3cc(O)ccc3)ncnc1c2</th>\n",
       "      <th>O=C(OCC)CCCN1C(=O)Oc2c1cc1c(Nc3ccc(OC(C)C)cc3)ncnc1c2</th>\n",
       "      <th>Clc1ccc(COC(=O)c2ccc(Nc3ncnc4c3cc3N(CCCC(=O)OCC)C(=O)Oc3c4)cc2)cc1</th>\n",
       "    </tr>\n",
       "  </thead>\n",
       "  <tbody>\n",
       "    <tr>\n",
       "      <th>0</th>\n",
       "      <td>O=C(OCC)CCCN1C(=O)Oc2c1cc1c(Nc3cc4c([nH]nc4)cc...</td>\n",
       "      <td>1.000000</td>\n",
       "      <td>0.897143</td>\n",
       "      <td>0.930233</td>\n",
       "      <td>0.908046</td>\n",
       "      <td>0.897143</td>\n",
       "    </tr>\n",
       "    <tr>\n",
       "      <th>1</th>\n",
       "      <td>Clc1c(OCc2ccc(Cl)cc2)ccc(Nc2ncnc3c2cc2N(CCCC(=...</td>\n",
       "      <td>0.897143</td>\n",
       "      <td>1.000000</td>\n",
       "      <td>0.919075</td>\n",
       "      <td>0.919075</td>\n",
       "      <td>1.000000</td>\n",
       "    </tr>\n",
       "    <tr>\n",
       "      <th>2</th>\n",
       "      <td>O=C(OCC)CCCN1C(=O)Oc2c1cc1c(Nc3cc(O)ccc3)ncnc1c2</td>\n",
       "      <td>0.930233</td>\n",
       "      <td>0.919075</td>\n",
       "      <td>1.000000</td>\n",
       "      <td>0.930233</td>\n",
       "      <td>0.919075</td>\n",
       "    </tr>\n",
       "    <tr>\n",
       "      <th>3</th>\n",
       "      <td>O=C(OCC)CCCN1C(=O)Oc2c1cc1c(Nc3ccc(OC(C)C)cc3)...</td>\n",
       "      <td>0.908046</td>\n",
       "      <td>0.919075</td>\n",
       "      <td>0.930233</td>\n",
       "      <td>1.000000</td>\n",
       "      <td>0.919075</td>\n",
       "    </tr>\n",
       "    <tr>\n",
       "      <th>4</th>\n",
       "      <td>Clc1ccc(COC(=O)c2ccc(Nc3ncnc4c3cc3N(CCCC(=O)OC...</td>\n",
       "      <td>0.897143</td>\n",
       "      <td>1.000000</td>\n",
       "      <td>0.919075</td>\n",
       "      <td>0.919075</td>\n",
       "      <td>1.000000</td>\n",
       "    </tr>\n",
       "  </tbody>\n",
       "</table>\n",
       "</div>"
      ],
      "text/plain": [
       "                                              SMILES  \\\n",
       "0  O=C(OCC)CCCN1C(=O)Oc2c1cc1c(Nc3cc4c([nH]nc4)cc...   \n",
       "1  Clc1c(OCc2ccc(Cl)cc2)ccc(Nc2ncnc3c2cc2N(CCCC(=...   \n",
       "2   O=C(OCC)CCCN1C(=O)Oc2c1cc1c(Nc3cc(O)ccc3)ncnc1c2   \n",
       "3  O=C(OCC)CCCN1C(=O)Oc2c1cc1c(Nc3ccc(OC(C)C)cc3)...   \n",
       "4  Clc1ccc(COC(=O)c2ccc(Nc3ncnc4c3cc3N(CCCC(=O)OC...   \n",
       "\n",
       "   O=C(OCC)CCCN1C(=O)Oc2c1cc1c(Nc3cc4c([nH]nc4)cc3)ncnc1c2  \\\n",
       "0                                           1.000000         \n",
       "1                                           0.897143         \n",
       "2                                           0.930233         \n",
       "3                                           0.908046         \n",
       "4                                           0.897143         \n",
       "\n",
       "   Clc1c(OCc2ccc(Cl)cc2)ccc(Nc2ncnc3c2cc2N(CCCC(=O)OCC)C(=O)Oc2c3)c1  \\\n",
       "0                                           0.897143                   \n",
       "1                                           1.000000                   \n",
       "2                                           0.919075                   \n",
       "3                                           0.919075                   \n",
       "4                                           1.000000                   \n",
       "\n",
       "   O=C(OCC)CCCN1C(=O)Oc2c1cc1c(Nc3cc(O)ccc3)ncnc1c2  \\\n",
       "0                                          0.930233   \n",
       "1                                          0.919075   \n",
       "2                                          1.000000   \n",
       "3                                          0.930233   \n",
       "4                                          0.919075   \n",
       "\n",
       "   O=C(OCC)CCCN1C(=O)Oc2c1cc1c(Nc3ccc(OC(C)C)cc3)ncnc1c2  \\\n",
       "0                                           0.908046       \n",
       "1                                           0.919075       \n",
       "2                                           0.930233       \n",
       "3                                           1.000000       \n",
       "4                                           0.919075       \n",
       "\n",
       "   Clc1ccc(COC(=O)c2ccc(Nc3ncnc4c3cc3N(CCCC(=O)OCC)C(=O)Oc3c4)cc2)cc1  \n",
       "0                                           0.897143                   \n",
       "1                                           1.000000                   \n",
       "2                                           0.919075                   \n",
       "3                                           0.919075                   \n",
       "4                                           1.000000                   "
      ]
     },
     "execution_count": 35,
     "metadata": {},
     "output_type": "execute_result"
    }
   ],
   "source": [
    "data=dataset\n",
    "data"
   ]
  },
  {
   "cell_type": "code",
   "execution_count": 36,
   "metadata": {},
   "outputs": [
    {
     "name": "stdout",
     "output_type": "stream",
     "text": [
      "列数: 5   行数 5\n"
     ]
    }
   ],
   "source": [
    "num_inedx=data.shape[1]-1\n",
    "num_columns=data.shape[0]\n",
    "print('列数:',num_inedx,'  行数',num_columns)"
   ]
  },
  {
   "cell_type": "code",
   "execution_count": 37,
   "metadata": {},
   "outputs": [
    {
     "data": {
      "text/html": [
       "<div>\n",
       "<style scoped>\n",
       "    .dataframe tbody tr th:only-of-type {\n",
       "        vertical-align: middle;\n",
       "    }\n",
       "\n",
       "    .dataframe tbody tr th {\n",
       "        vertical-align: top;\n",
       "    }\n",
       "\n",
       "    .dataframe thead th {\n",
       "        text-align: right;\n",
       "    }\n",
       "</style>\n",
       "<table border=\"1\" class=\"dataframe\">\n",
       "  <thead>\n",
       "    <tr style=\"text-align: right;\">\n",
       "      <th></th>\n",
       "      <th>mol_0</th>\n",
       "      <th>mol_1</th>\n",
       "      <th>mol_2</th>\n",
       "      <th>mol_3</th>\n",
       "      <th>mol_4</th>\n",
       "    </tr>\n",
       "  </thead>\n",
       "  <tbody>\n",
       "    <tr>\n",
       "      <th>mol_0</th>\n",
       "      <td>1.000000</td>\n",
       "      <td>0.897143</td>\n",
       "      <td>0.930233</td>\n",
       "      <td>0.908046</td>\n",
       "      <td>0.897143</td>\n",
       "    </tr>\n",
       "    <tr>\n",
       "      <th>mol_1</th>\n",
       "      <td>0.897143</td>\n",
       "      <td>1.000000</td>\n",
       "      <td>0.919075</td>\n",
       "      <td>0.919075</td>\n",
       "      <td>1.000000</td>\n",
       "    </tr>\n",
       "    <tr>\n",
       "      <th>mol_2</th>\n",
       "      <td>0.930233</td>\n",
       "      <td>0.919075</td>\n",
       "      <td>1.000000</td>\n",
       "      <td>0.930233</td>\n",
       "      <td>0.919075</td>\n",
       "    </tr>\n",
       "    <tr>\n",
       "      <th>mol_3</th>\n",
       "      <td>0.908046</td>\n",
       "      <td>0.919075</td>\n",
       "      <td>0.930233</td>\n",
       "      <td>1.000000</td>\n",
       "      <td>0.919075</td>\n",
       "    </tr>\n",
       "    <tr>\n",
       "      <th>mol_4</th>\n",
       "      <td>0.897143</td>\n",
       "      <td>1.000000</td>\n",
       "      <td>0.919075</td>\n",
       "      <td>0.919075</td>\n",
       "      <td>1.000000</td>\n",
       "    </tr>\n",
       "  </tbody>\n",
       "</table>\n",
       "</div>"
      ],
      "text/plain": [
       "          mol_0     mol_1     mol_2     mol_3     mol_4\n",
       "mol_0  1.000000  0.897143  0.930233  0.908046  0.897143\n",
       "mol_1  0.897143  1.000000  0.919075  0.919075  1.000000\n",
       "mol_2  0.930233  0.919075  1.000000  0.930233  0.919075\n",
       "mol_3  0.908046  0.919075  0.930233  1.000000  0.919075\n",
       "mol_4  0.897143  1.000000  0.919075  0.919075  1.000000"
      ]
     },
     "execution_count": 37,
     "metadata": {},
     "output_type": "execute_result"
    }
   ],
   "source": [
    "num_inedx=data.shape[1]-1\n",
    "new_index=[\"mol_\"+str(i) for i in range(num_columns)]\n",
    "data.index=new_index\n",
    "data=data.iloc[:,1:]#不取第一列\n",
    "new_columns=[\"mol_\"+str(i) for i in range(num_inedx)]\n",
    "data.columns=new_columns\n",
    "data"
   ]
  },
  {
   "cell_type": "code",
   "execution_count": 38,
   "metadata": {},
   "outputs": [
    {
     "data": {
      "image/png": "[encoded data removed]",
      "text/plain": [
       "<Figure size 432x288 with 2 Axes>"
      ]
     },
     "metadata": {
      "needs_background": "light"
     },
     "output_type": "display_data"
    }
   ],
   "source": [
    "from matplotlib.pyplot import savefig\n",
    "fig=sns.heatmap(data.iloc[:,1:],cmap='GnBu')\n",
    "# savefig(r'C:\\Users\\wsy\\Desktop\\fig_B.png',dpi=150, bbox_inches='tight')#这一行用于将图片保存到本地"
   ]
  },
  {
   "cell_type": "code",
   "execution_count": null,
   "metadata": {},
   "outputs": [],
   "source": []
  }
 ],
 "metadata": {
  "kernelspec": {
   "display_name": "Python 3",
   "language": "python",
   "name": "python3"
  },
  "language_info": {
   "codemirror_mode": {
    "name": "ipython",
    "version": 3
   },
   "file_extension": ".py",
   "mimetype": "text/x-python",
   "name": "python",
   "nbconvert_exporter": "python",
   "pygments_lexer": "ipython3",
   "version": "3.7.3"
  }
 },
 "nbformat": 4,
 "nbformat_minor": 2
}
