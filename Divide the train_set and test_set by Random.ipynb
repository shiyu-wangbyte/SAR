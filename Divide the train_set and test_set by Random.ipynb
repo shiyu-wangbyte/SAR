{
 "cells": [
  {
   "cell_type": "code",
   "execution_count": 3,
   "metadata": {},
   "outputs": [],
   "source": [
    "import random\n",
    "import csv"
   ]
  },
  {
   "cell_type": "code",
   "execution_count": 4,
   "metadata": {},
   "outputs": [],
   "source": [
    "text_list=[]\n",
    "train_list=[]\n",
    "#读取原表中的数据，并将数据分到两个列表中,表格要求无表头，且三列数据分别为mol,IC50,Actiivity\n",
    "input_path=r'C:\\2016018002\\diploma project\\SAR_new\\IC50(500)\\data.csv'\n",
    "with open(input_path,'r',encoding='utf-8') as file1:\n",
    "    while 1:\n",
    "        lines = file1.readline()\n",
    "        if not lines:\n",
    "            break\n",
    "            pass\n",
    "        a=random.randint(1,5)#4:1划分训练集测试集\n",
    "       # print(a)\n",
    "        if a==1:\n",
    "            text_list.append(lines)\n",
    "        else:\n",
    "            train_list.append(lines)\n",
    "#将train_list中的数据写入第一个文件\n",
    "with open(input_path[:-4]+'_train.csv', 'a', newline='')as csvfile:\n",
    "    writer = csv.writer(csvfile, dialect='excel')\n",
    "    header = ['mol', 'IC50', 'Activity']\n",
    "    writer.writerow(header)\n",
    "    for sub_dict in train_list:\n",
    "        csvfile.write(sub_dict)\n",
    "\n",
    "with open(input_path[:-4]+'_test.csv', 'a', newline='')as csvfile:\n",
    "    writer = csv.writer(csvfile, dialect='excel')\n",
    "    header = ['mol', 'IC50', 'Activity']\n",
    "    writer.writerow(header)\n",
    "    for sub_dict in text_list:\n",
    "        csvfile.write(sub_dict)\n",
    "\n",
    "\n",
    "#print(text_list)\n",
    "#print(train_list)\n",
    "#print(len(text_list))\n",
    "#print(len(train_list))"
   ]
  },
  {
   "cell_type": "code",
   "execution_count": null,
   "metadata": {},
   "outputs": [],
   "source": []
  }
 ],
 "metadata": {
  "kernelspec": {
   "display_name": "Python 3",
   "language": "python",
   "name": "python3"
  },
  "language_info": {
   "codemirror_mode": {
    "name": "ipython",
    "version": 3
   },
   "file_extension": ".py",
   "mimetype": "text/x-python",
   "name": "python",
   "nbconvert_exporter": "python",
   "pygments_lexer": "ipython3",
   "version": "3.7.3"
  }
 },
 "nbformat": 4,
 "nbformat_minor": 2
}
