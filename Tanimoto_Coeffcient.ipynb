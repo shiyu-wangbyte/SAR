{
 "cells": [
  {
   "cell_type": "markdown",
   "metadata": {},
   "source": [
    "# 脚本文档："
   ]
  },
  {
   "cell_type": "raw",
   "metadata": {},
   "source": [
    "本脚本适用于多个分子（存储在path=r\"C:\\Users\\wsy\\Desktop\\3cl_filtered.csv\"中）对同一个分子（CEP）计算tanimoto系数，输入为SMILES结构，先计算出MACCS描述符，然后计算tanimoto系数，计算公式为：\n",
    "Sab=c/(a+b-c),\n",
    "其中a=b=167,c表示a,b中等位置相同的元素数目"
   ]
  },
  {
   "cell_type": "code",
   "execution_count": 1,
   "metadata": {},
   "outputs": [],
   "source": [
    "import rdkit\n",
    "from rdkit import Chem\n",
    "import pandas as pd\n",
    "from rdkit.Chem import MACCSkeys"
   ]
  },
  {
   "cell_type": "code",
   "execution_count": 7,
   "metadata": {},
   "outputs": [],
   "source": [
    "#计算出CEP的MACCS指纹并且存到DataFrame里面\n",
    "CEP=\"CN1CCC2=C(C=C(OC3=C([C@@](CC4=CC=C5C=C4)([H])N(C)CC6)C6=CC7=C3OCO7)C(OC)=C2)[C@@]1([H])CC8=CC=C(OC)C(O5)=C8\"\n",
    "mol = Chem.MolFromSmiles(CEP)\n",
    "fps = MACCSkeys.GenMACCSKeys(mol)\n",
    "head=['MACCS_'+str(i) for i in range(1,168)]\n",
    "empty_dict=dict(list(zip(head,list(fps))))\n",
    "MACCS_CEP=pd.DataFrame(empty_dict,index=[\"CEP\"])"
   ]
  },
  {
   "cell_type": "code",
   "execution_count": 8,
   "metadata": {},
   "outputs": [],
   "source": [
    "#将需要计算相似度的分子从文件中提取出来\n",
    "path=r\"D:\\RNN_folder\\high_acticity.csv\"\n",
    "dataset=pd.read_csv(path,encoding=\"GBK\")\n",
    "smiles_list=list(dataset[\"SMILES\"])"
   ]
  },
  {
   "cell_type": "code",
   "execution_count": 9,
   "metadata": {},
   "outputs": [],
   "source": [
    "#定义计算函数，输入为MACCS_CEP（DataFrame格式），DataFrame文本格式，返回值为分子与CEP的tanimoto系数\n",
    "def compute(MACCS_CEP,smiles):\n",
    "    mol = Chem.MolFromSmiles(smiles)\n",
    "    fps = MACCSkeys.GenMACCSKeys(mol)\n",
    "    head=['MACCS_'+str(i) for i in range(1,168)]\n",
    "    empty_dict=dict(list(zip(head,list(fps))))\n",
    "    MACCS_smiles=pd.DataFrame(empty_dict,index=[\"smiles\"])\n",
    "    final=MACCS_smiles.append(MACCS_CEP)\n",
    "    c=0\n",
    "    for i in head:\n",
    "        if final[i][\"CEP\"]==final[i][\"smiles\"]:\n",
    "            c=c+1\n",
    "    return c/(167+167-c)"
   ]
  },
  {
   "cell_type": "code",
   "execution_count": 10,
   "metadata": {},
   "outputs": [],
   "source": [
    "#调用函数，计算tanimoto系数，并且存储到原来的数据中\n",
    "tanimoto_list=[]\n",
    "for smiles in smiles_list:\n",
    "    tanimoto=compute(MACCS_CEP,smiles)\n",
    "    tanimoto_list.append(tanimoto)\n",
    "dataset[\"tanimoto\"]=tanimoto_list"
   ]
  },
  {
   "cell_type": "code",
   "execution_count": 83,
   "metadata": {},
   "outputs": [],
   "source": [
    "#将数据写入文件\n",
    "out_path=path[:-4]+'_tanimoto.csv'\n",
    "dataset.to_csv(out_path,index=False)"
   ]
  },
  {
   "cell_type": "code",
   "execution_count": 11,
   "metadata": {},
   "outputs": [
    {
     "data": {
      "text/html": [
       "<div>\n",
       "<style scoped>\n",
       "    .dataframe tbody tr th:only-of-type {\n",
       "        vertical-align: middle;\n",
       "    }\n",
       "\n",
       "    .dataframe tbody tr th {\n",
       "        vertical-align: top;\n",
       "    }\n",
       "\n",
       "    .dataframe thead th {\n",
       "        text-align: right;\n",
       "    }\n",
       "</style>\n",
       "<table border=\"1\" class=\"dataframe\">\n",
       "  <thead>\n",
       "    <tr style=\"text-align: right;\">\n",
       "      <th></th>\n",
       "      <th>SMILES</th>\n",
       "      <th>tanimoto</th>\n",
       "    </tr>\n",
       "  </thead>\n",
       "  <tbody>\n",
       "    <tr>\n",
       "      <th>0</th>\n",
       "      <td>FC(F)(F)C=1/C(=N\\c2cc(/N=C(/O)\\C=C)ccc2)/NC(Nc...</td>\n",
       "      <td>0.560748</td>\n",
       "    </tr>\n",
       "    <tr>\n",
       "      <th>1</th>\n",
       "      <td>FC(F)(F)C=1/C(=N\\c2cc(/N=C(/O)\\C=C)ccc2)/NC(Nc...</td>\n",
       "      <td>0.553488</td>\n",
       "    </tr>\n",
       "    <tr>\n",
       "      <th>2</th>\n",
       "      <td>O=C(Nc1c(OCC)cc2ncnc(Nc3cc(C#C)ccc3)c2c1)/C=C/...</td>\n",
       "      <td>0.670000</td>\n",
       "    </tr>\n",
       "    <tr>\n",
       "      <th>3</th>\n",
       "      <td>O=C(Nc1c(OC)cc2ncnc(Nc3cc(C#C)ccc3)c2c1)/C=C/C...</td>\n",
       "      <td>0.678392</td>\n",
       "    </tr>\n",
       "    <tr>\n",
       "      <th>4</th>\n",
       "      <td>Clc1c(OCc2ncccc2)ccc(Nc2c(C#N)cnc3c2cc(NC(=O)/...</td>\n",
       "      <td>0.605769</td>\n",
       "    </tr>\n",
       "    <tr>\n",
       "      <th>...</th>\n",
       "      <td>...</td>\n",
       "      <td>...</td>\n",
       "    </tr>\n",
       "    <tr>\n",
       "      <th>252</th>\n",
       "      <td>O=C(Nc1c(OC)cc2ncnc(Nc3cc(C#C)ccc3)c2c1)/C=C/C...</td>\n",
       "      <td>0.590476</td>\n",
       "    </tr>\n",
       "    <tr>\n",
       "      <th>253</th>\n",
       "      <td>O=C(Nc1c(OCC)cc2ncnc(Nc3cc(C#C)ccc3)c2c1)/C=C/...</td>\n",
       "      <td>0.590476</td>\n",
       "    </tr>\n",
       "    <tr>\n",
       "      <th>254</th>\n",
       "      <td>O=C(Nc1c(O[C@@H]2COCC2)cc2ncnc(Nc3cc(C#C)ccc3)...</td>\n",
       "      <td>0.670000</td>\n",
       "    </tr>\n",
       "    <tr>\n",
       "      <th>255</th>\n",
       "      <td>O=C(OCC)CCCN1C(=O)Oc2c1cc1c(Nc3c(O)ccc(C(=O)OC...</td>\n",
       "      <td>0.695431</td>\n",
       "    </tr>\n",
       "    <tr>\n",
       "      <th>256</th>\n",
       "      <td>O=C(OCC)CCCN1C(=O)Oc2c1cc1c(Nc3cc(O)ccc3)ncnc1c2</td>\n",
       "      <td>0.686869</td>\n",
       "    </tr>\n",
       "  </tbody>\n",
       "</table>\n",
       "<p>257 rows × 2 columns</p>\n",
       "</div>"
      ],
      "text/plain": [
       "                                                SMILES  tanimoto\n",
       "0    FC(F)(F)C=1/C(=N\\c2cc(/N=C(/O)\\C=C)ccc2)/NC(Nc...  0.560748\n",
       "1    FC(F)(F)C=1/C(=N\\c2cc(/N=C(/O)\\C=C)ccc2)/NC(Nc...  0.553488\n",
       "2    O=C(Nc1c(OCC)cc2ncnc(Nc3cc(C#C)ccc3)c2c1)/C=C/...  0.670000\n",
       "3    O=C(Nc1c(OC)cc2ncnc(Nc3cc(C#C)ccc3)c2c1)/C=C/C...  0.678392\n",
       "4    Clc1c(OCc2ncccc2)ccc(Nc2c(C#N)cnc3c2cc(NC(=O)/...  0.605769\n",
       "..                                                 ...       ...\n",
       "252  O=C(Nc1c(OC)cc2ncnc(Nc3cc(C#C)ccc3)c2c1)/C=C/C...  0.590476\n",
       "253  O=C(Nc1c(OCC)cc2ncnc(Nc3cc(C#C)ccc3)c2c1)/C=C/...  0.590476\n",
       "254  O=C(Nc1c(O[C@@H]2COCC2)cc2ncnc(Nc3cc(C#C)ccc3)...  0.670000\n",
       "255  O=C(OCC)CCCN1C(=O)Oc2c1cc1c(Nc3c(O)ccc(C(=O)OC...  0.695431\n",
       "256   O=C(OCC)CCCN1C(=O)Oc2c1cc1c(Nc3cc(O)ccc3)ncnc1c2  0.686869\n",
       "\n",
       "[257 rows x 2 columns]"
      ]
     },
     "execution_count": 11,
     "metadata": {},
     "output_type": "execute_result"
    }
   ],
   "source": [
    "dataset"
   ]
  },
  {
   "cell_type": "code",
   "execution_count": null,
   "metadata": {},
   "outputs": [],
   "source": []
  }
 ],
 "metadata": {
  "kernelspec": {
   "display_name": "Python 3",
   "language": "python",
   "name": "python3"
  },
  "language_info": {
   "codemirror_mode": {
    "name": "ipython",
    "version": 3
   },
   "file_extension": ".py",
   "mimetype": "text/x-python",
   "name": "python",
   "nbconvert_exporter": "python",
   "pygments_lexer": "ipython3",
   "version": "3.7.3"
  }
 },
 "nbformat": 4,
 "nbformat_minor": 2
}
